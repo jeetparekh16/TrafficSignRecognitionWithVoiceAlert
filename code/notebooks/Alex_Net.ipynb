{
 "cells": [
  {
   "cell_type": "markdown",
   "metadata": {
    "id": "CBR1JrBGO3Xn"
   },
   "source": [
    "dataset link =https://www.kaggle.com/eunjurho/german-traffic-sign-recognition-benchmark-cropped"
   ]
  },
  {
   "cell_type": "code",
   "execution_count": 1,
   "metadata": {
    "colab": {
     "base_uri": "https://localhost:8080/"
    },
    "executionInfo": {
     "elapsed": 26339,
     "status": "ok",
     "timestamp": 1684722207953,
     "user": {
      "displayName": "Lakshmi Satvika Nekkanti",
      "userId": "08884361401555346095"
     },
     "user_tz": 420
    },
    "id": "aDo5gR9IO3Xy",
    "outputId": "26c8f533-5ea8-491b-bce0-f59fff8e3cf7"
   },
   "outputs": [
    {
     "name": "stdout",
     "output_type": "stream",
     "text": [
      "Looking in indexes: https://pypi.org/simple, https://us-python.pkg.dev/colab-wheels/public/simple/\n",
      "Requirement already satisfied: keras in /usr/local/lib/python3.10/dist-packages (2.12.0)\n"
     ]
    }
   ],
   "source": [
    "import numpy as np \n",
    "import pandas as pd \n",
    "import matplotlib.pyplot as plt\n",
    "import cv2\n",
    "\n",
    "import tensorflow as tf\n",
    "from tensorflow import keras\n",
    "\n",
    " \n",
    "!pip install keras\n",
    "from keras.utils import to_categorical\n",
    " \n",
    "\n"
   ]
  },
  {
   "cell_type": "code",
   "execution_count": 2,
   "metadata": {
    "executionInfo": {
     "elapsed": 205,
     "status": "ok",
     "timestamp": 1684722297038,
     "user": {
      "displayName": "Lakshmi Satvika Nekkanti",
      "userId": "08884361401555346095"
     },
     "user_tz": 420
    },
    "id": "dMHu9VFyO3X5"
   },
   "outputs": [],
   "source": [
    "import numpy as np \n",
    "import pandas as pd \n",
    "import matplotlib.pyplot as plt\n",
    "from PIL import Image\n",
    "import cv2 \n",
    "\n",
    "\n",
    "\n"
   ]
  },
  {
   "cell_type": "code",
   "execution_count": 3,
   "metadata": {
    "colab": {
     "base_uri": "https://localhost:8080/",
     "height": 1000
    },
    "executionInfo": {
     "elapsed": 150842,
     "status": "ok",
     "timestamp": 1684722452380,
     "user": {
      "displayName": "Lakshmi Satvika Nekkanti",
      "userId": "08884361401555346095"
     },
     "user_tz": 420
    },
    "id": "FX4zV7w9Ri8C",
    "outputId": "987dfeca-eab8-4758-e994-b7097ac1ac4b"
   },
   "outputs": [
    {
     "data": {
      "text/html": [
       "\n",
       "     <input type=\"file\" id=\"files-f619ee33-6053-454f-b3e4-10487e7557d6\" name=\"files[]\" multiple disabled\n",
       "        style=\"border:none\" />\n",
       "     <output id=\"result-f619ee33-6053-454f-b3e4-10487e7557d6\">\n",
       "      Upload widget is only available when the cell has been executed in the\n",
       "      current browser session. Please rerun this cell to enable.\n",
       "      </output>\n",
       "      <script>// Copyright 2017 Google LLC\n",
       "//\n",
       "// Licensed under the Apache License, Version 2.0 (the \"License\");\n",
       "// you may not use this file except in compliance with the License.\n",
       "// You may obtain a copy of the License at\n",
       "//\n",
       "//      http://www.apache.org/licenses/LICENSE-2.0\n",
       "//\n",
       "// Unless required by applicable law or agreed to in writing, software\n",
       "// distributed under the License is distributed on an \"AS IS\" BASIS,\n",
       "// WITHOUT WARRANTIES OR CONDITIONS OF ANY KIND, either express or implied.\n",
       "// See the License for the specific language governing permissions and\n",
       "// limitations under the License.\n",
       "\n",
       "/**\n",
       " * @fileoverview Helpers for google.colab Python module.\n",
       " */\n",
       "(function(scope) {\n",
       "function span(text, styleAttributes = {}) {\n",
       "  const element = document.createElement('span');\n",
       "  element.textContent = text;\n",
       "  for (const key of Object.keys(styleAttributes)) {\n",
       "    element.style[key] = styleAttributes[key];\n",
       "  }\n",
       "  return element;\n",
       "}\n",
       "\n",
       "// Max number of bytes which will be uploaded at a time.\n",
       "const MAX_PAYLOAD_SIZE = 100 * 1024;\n",
       "\n",
       "function _uploadFiles(inputId, outputId) {\n",
       "  const steps = uploadFilesStep(inputId, outputId);\n",
       "  const outputElement = document.getElementById(outputId);\n",
       "  // Cache steps on the outputElement to make it available for the next call\n",
       "  // to uploadFilesContinue from Python.\n",
       "  outputElement.steps = steps;\n",
       "\n",
       "  return _uploadFilesContinue(outputId);\n",
       "}\n",
       "\n",
       "// This is roughly an async generator (not supported in the browser yet),\n",
       "// where there are multiple asynchronous steps and the Python side is going\n",
       "// to poll for completion of each step.\n",
       "// This uses a Promise to block the python side on completion of each step,\n",
       "// then passes the result of the previous step as the input to the next step.\n",
       "function _uploadFilesContinue(outputId) {\n",
       "  const outputElement = document.getElementById(outputId);\n",
       "  const steps = outputElement.steps;\n",
       "\n",
       "  const next = steps.next(outputElement.lastPromiseValue);\n",
       "  return Promise.resolve(next.value.promise).then((value) => {\n",
       "    // Cache the last promise value to make it available to the next\n",
       "    // step of the generator.\n",
       "    outputElement.lastPromiseValue = value;\n",
       "    return next.value.response;\n",
       "  });\n",
       "}\n",
       "\n",
       "/**\n",
       " * Generator function which is called between each async step of the upload\n",
       " * process.\n",
       " * @param {string} inputId Element ID of the input file picker element.\n",
       " * @param {string} outputId Element ID of the output display.\n",
       " * @return {!Iterable<!Object>} Iterable of next steps.\n",
       " */\n",
       "function* uploadFilesStep(inputId, outputId) {\n",
       "  const inputElement = document.getElementById(inputId);\n",
       "  inputElement.disabled = false;\n",
       "\n",
       "  const outputElement = document.getElementById(outputId);\n",
       "  outputElement.innerHTML = '';\n",
       "\n",
       "  const pickedPromise = new Promise((resolve) => {\n",
       "    inputElement.addEventListener('change', (e) => {\n",
       "      resolve(e.target.files);\n",
       "    });\n",
       "  });\n",
       "\n",
       "  const cancel = document.createElement('button');\n",
       "  inputElement.parentElement.appendChild(cancel);\n",
       "  cancel.textContent = 'Cancel upload';\n",
       "  const cancelPromise = new Promise((resolve) => {\n",
       "    cancel.onclick = () => {\n",
       "      resolve(null);\n",
       "    };\n",
       "  });\n",
       "\n",
       "  // Wait for the user to pick the files.\n",
       "  const files = yield {\n",
       "    promise: Promise.race([pickedPromise, cancelPromise]),\n",
       "    response: {\n",
       "      action: 'starting',\n",
       "    }\n",
       "  };\n",
       "\n",
       "  cancel.remove();\n",
       "\n",
       "  // Disable the input element since further picks are not allowed.\n",
       "  inputElement.disabled = true;\n",
       "\n",
       "  if (!files) {\n",
       "    return {\n",
       "      response: {\n",
       "        action: 'complete',\n",
       "      }\n",
       "    };\n",
       "  }\n",
       "\n",
       "  for (const file of files) {\n",
       "    const li = document.createElement('li');\n",
       "    li.append(span(file.name, {fontWeight: 'bold'}));\n",
       "    li.append(span(\n",
       "        `(${file.type || 'n/a'}) - ${file.size} bytes, ` +\n",
       "        `last modified: ${\n",
       "            file.lastModifiedDate ? file.lastModifiedDate.toLocaleDateString() :\n",
       "                                    'n/a'} - `));\n",
       "    const percent = span('0% done');\n",
       "    li.appendChild(percent);\n",
       "\n",
       "    outputElement.appendChild(li);\n",
       "\n",
       "    const fileDataPromise = new Promise((resolve) => {\n",
       "      const reader = new FileReader();\n",
       "      reader.onload = (e) => {\n",
       "        resolve(e.target.result);\n",
       "      };\n",
       "      reader.readAsArrayBuffer(file);\n",
       "    });\n",
       "    // Wait for the data to be ready.\n",
       "    let fileData = yield {\n",
       "      promise: fileDataPromise,\n",
       "      response: {\n",
       "        action: 'continue',\n",
       "      }\n",
       "    };\n",
       "\n",
       "    // Use a chunked sending to avoid message size limits. See b/62115660.\n",
       "    let position = 0;\n",
       "    do {\n",
       "      const length = Math.min(fileData.byteLength - position, MAX_PAYLOAD_SIZE);\n",
       "      const chunk = new Uint8Array(fileData, position, length);\n",
       "      position += length;\n",
       "\n",
       "      const base64 = btoa(String.fromCharCode.apply(null, chunk));\n",
       "      yield {\n",
       "        response: {\n",
       "          action: 'append',\n",
       "          file: file.name,\n",
       "          data: base64,\n",
       "        },\n",
       "      };\n",
       "\n",
       "      let percentDone = fileData.byteLength === 0 ?\n",
       "          100 :\n",
       "          Math.round((position / fileData.byteLength) * 100);\n",
       "      percent.textContent = `${percentDone}% done`;\n",
       "\n",
       "    } while (position < fileData.byteLength);\n",
       "  }\n",
       "\n",
       "  // All done.\n",
       "  yield {\n",
       "    response: {\n",
       "      action: 'complete',\n",
       "    }\n",
       "  };\n",
       "}\n",
       "\n",
       "scope.google = scope.google || {};\n",
       "scope.google.colab = scope.google.colab || {};\n",
       "scope.google.colab._files = {\n",
       "  _uploadFiles,\n",
       "  _uploadFilesContinue,\n",
       "};\n",
       "})(self);\n",
       "</script> "
      ],
      "text/plain": [
       "<IPython.core.display.HTML object>"
      ]
     },
     "metadata": {},
     "output_type": "display_data"
    },
    {
     "name": "stdout",
     "output_type": "stream",
     "text": [
      "Saving 00000_00006_00026.png to 00000_00006_00026.png\n",
      "Saving 00000_00006_00027.png to 00000_00006_00027.png\n",
      "Saving 00000_00006_00028.png to 00000_00006_00028.png\n",
      "Saving 00000_00006_00029.png to 00000_00006_00029.png\n",
      "Saving 00000_00006_00020.png to 00000_00006_00020.png\n",
      "Saving 00000_00006_00021.png to 00000_00006_00021.png\n",
      "Saving 00000_00006_00022.png to 00000_00006_00022.png\n",
      "Saving 00000_00006_00023.png to 00000_00006_00023.png\n",
      "Saving 00000_00006_00024.png to 00000_00006_00024.png\n",
      "Saving 00000_00006_00025.png to 00000_00006_00025.png\n",
      "Saving 00000_00006_00014.png to 00000_00006_00014.png\n",
      "Saving 00000_00006_00015.png to 00000_00006_00015.png\n",
      "Saving 00000_00006_00016.png to 00000_00006_00016.png\n",
      "Saving 00000_00006_00017.png to 00000_00006_00017.png\n",
      "Saving 00000_00006_00018.png to 00000_00006_00018.png\n",
      "Saving 00000_00006_00019.png to 00000_00006_00019.png\n",
      "Saving 00000_00006_00005.png to 00000_00006_00005.png\n",
      "Saving 00000_00006_00006.png to 00000_00006_00006.png\n",
      "Saving 00000_00006_00007.png to 00000_00006_00007.png\n",
      "Saving 00000_00006_00008.png to 00000_00006_00008.png\n",
      "Saving 00000_00006_00009.png to 00000_00006_00009.png\n",
      "Saving 00000_00006_00010.png to 00000_00006_00010.png\n",
      "Saving 00000_00006_00011.png to 00000_00006_00011.png\n",
      "Saving 00000_00006_00012.png to 00000_00006_00012.png\n",
      "Saving 00000_00006_00013.png to 00000_00006_00013.png\n",
      "Saving 00000_00005_00025.png to 00000_00005_00025.png\n",
      "Saving 00000_00005_00026.png to 00000_00005_00026.png\n",
      "Saving 00000_00005_00027.png to 00000_00005_00027.png\n",
      "Saving 00000_00005_00028.png to 00000_00005_00028.png\n",
      "Saving 00000_00005_00029.png to 00000_00005_00029.png\n",
      "Saving 00000_00006_00000.png to 00000_00006_00000.png\n",
      "Saving 00000_00006_00001.png to 00000_00006_00001.png\n",
      "Saving 00000_00006_00002.png to 00000_00006_00002.png\n",
      "Saving 00000_00006_00003.png to 00000_00006_00003.png\n",
      "Saving 00000_00006_00004.png to 00000_00006_00004.png\n",
      "Saving 00000_00005_00015.png to 00000_00005_00015.png\n",
      "Saving 00000_00005_00016.png to 00000_00005_00016.png\n",
      "Saving 00000_00005_00017.png to 00000_00005_00017.png\n",
      "Saving 00000_00005_00018.png to 00000_00005_00018.png\n",
      "Saving 00000_00005_00019.png to 00000_00005_00019.png\n",
      "Saving 00000_00005_00020.png to 00000_00005_00020.png\n",
      "Saving 00000_00005_00021.png to 00000_00005_00021.png\n",
      "Saving 00000_00005_00022.png to 00000_00005_00022.png\n",
      "Saving 00000_00005_00023.png to 00000_00005_00023.png\n",
      "Saving 00000_00005_00024.png to 00000_00005_00024.png\n",
      "Saving 00000_00005_00005.png to 00000_00005_00005.png\n",
      "Saving 00000_00005_00006.png to 00000_00005_00006.png\n",
      "Saving 00000_00005_00007.png to 00000_00005_00007.png\n",
      "Saving 00000_00005_00008.png to 00000_00005_00008.png\n",
      "Saving 00000_00005_00009.png to 00000_00005_00009.png\n",
      "Saving 00000_00005_00010.png to 00000_00005_00010.png\n",
      "Saving 00000_00005_00011.png to 00000_00005_00011.png\n",
      "Saving 00000_00005_00012.png to 00000_00005_00012.png\n",
      "Saving 00000_00005_00013.png to 00000_00005_00013.png\n",
      "Saving 00000_00005_00014.png to 00000_00005_00014.png\n",
      "Saving 00000_00004_00025.png to 00000_00004_00025.png\n",
      "Saving 00000_00004_00026.png to 00000_00004_00026.png\n",
      "Saving 00000_00004_00027.png to 00000_00004_00027.png\n",
      "Saving 00000_00004_00028.png to 00000_00004_00028.png\n",
      "Saving 00000_00004_00029.png to 00000_00004_00029.png\n",
      "Saving 00000_00005_00000.png to 00000_00005_00000.png\n",
      "Saving 00000_00005_00001.png to 00000_00005_00001.png\n",
      "Saving 00000_00005_00002.png to 00000_00005_00002.png\n",
      "Saving 00000_00005_00003.png to 00000_00005_00003.png\n",
      "Saving 00000_00005_00004.png to 00000_00005_00004.png\n",
      "Saving 00000_00004_00015.png to 00000_00004_00015.png\n",
      "Saving 00000_00004_00016.png to 00000_00004_00016.png\n",
      "Saving 00000_00004_00017.png to 00000_00004_00017.png\n",
      "Saving 00000_00004_00018.png to 00000_00004_00018.png\n",
      "Saving 00000_00004_00019.png to 00000_00004_00019.png\n",
      "Saving 00000_00004_00020.png to 00000_00004_00020.png\n",
      "Saving 00000_00004_00021.png to 00000_00004_00021.png\n",
      "Saving 00000_00004_00022.png to 00000_00004_00022.png\n",
      "Saving 00000_00004_00023.png to 00000_00004_00023.png\n",
      "Saving 00000_00004_00024.png to 00000_00004_00024.png\n",
      "Saving 00000_00004_00004.png to 00000_00004_00004.png\n",
      "Saving 00000_00004_00005.png to 00000_00004_00005.png\n",
      "Saving 00000_00004_00006.png to 00000_00004_00006.png\n",
      "Saving 00000_00004_00007.png to 00000_00004_00007.png\n",
      "Saving 00000_00004_00008.png to 00000_00004_00008.png\n",
      "Saving 00000_00004_00009.png to 00000_00004_00009.png\n",
      "Saving 00000_00004_00010.png to 00000_00004_00010.png\n",
      "Saving 00000_00004_00011.png to 00000_00004_00011.png\n",
      "Saving 00000_00004_00012.png to 00000_00004_00012.png\n",
      "Saving 00000_00004_00013.png to 00000_00004_00013.png\n",
      "Saving 00000_00004_00014.png to 00000_00004_00014.png\n",
      "Saving 00000_00003_00024.png to 00000_00003_00024.png\n",
      "Saving 00000_00003_00025.png to 00000_00003_00025.png\n",
      "Saving 00000_00003_00026.png to 00000_00003_00026.png\n",
      "Saving 00000_00003_00027.png to 00000_00003_00027.png\n",
      "Saving 00000_00003_00028.png to 00000_00003_00028.png\n",
      "Saving 00000_00003_00029.png to 00000_00003_00029.png\n",
      "Saving 00000_00004_00000.png to 00000_00004_00000.png\n",
      "Saving 00000_00004_00001.png to 00000_00004_00001.png\n",
      "Saving 00000_00004_00002.png to 00000_00004_00002.png\n",
      "Saving 00000_00004_00003.png to 00000_00004_00003.png\n",
      "Saving 00000_00003_00017.png to 00000_00003_00017.png\n",
      "Saving 00000_00003_00018.png to 00000_00003_00018.png\n",
      "Saving 00000_00003_00019.png to 00000_00003_00019.png\n",
      "Saving 00000_00003_00020.png to 00000_00003_00020.png\n",
      "Saving 00000_00003_00021.png to 00000_00003_00021.png\n",
      "Saving 00000_00003_00022.png to 00000_00003_00022.png\n",
      "Saving 00000_00003_00023.png to 00000_00003_00023.png\n",
      "Saving 00000_00003_00009.png to 00000_00003_00009.png\n",
      "Saving 00000_00003_00010.png to 00000_00003_00010.png\n",
      "Saving 00000_00003_00011.png to 00000_00003_00011.png\n",
      "Saving 00000_00003_00012.png to 00000_00003_00012.png\n",
      "Saving 00000_00003_00013.png to 00000_00003_00013.png\n",
      "Saving 00000_00003_00014.png to 00000_00003_00014.png\n",
      "Saving 00000_00003_00015.png to 00000_00003_00015.png\n",
      "Saving 00000_00003_00016.png to 00000_00003_00016.png\n",
      "Saving 00000_00003_00001.png to 00000_00003_00001.png\n",
      "Saving 00000_00003_00002.png to 00000_00003_00002.png\n",
      "Saving 00000_00003_00003.png to 00000_00003_00003.png\n",
      "Saving 00000_00003_00004.png to 00000_00003_00004.png\n",
      "Saving 00000_00003_00005.png to 00000_00003_00005.png\n",
      "Saving 00000_00003_00006.png to 00000_00003_00006.png\n",
      "Saving 00000_00003_00007.png to 00000_00003_00007.png\n",
      "Saving 00000_00003_00008.png to 00000_00003_00008.png\n",
      "Saving 00000_00002_00022.png to 00000_00002_00022.png\n",
      "Saving 00000_00002_00023.png to 00000_00002_00023.png\n",
      "Saving 00000_00002_00024.png to 00000_00002_00024.png\n",
      "Saving 00000_00002_00025.png to 00000_00002_00025.png\n",
      "Saving 00000_00002_00026.png to 00000_00002_00026.png\n",
      "Saving 00000_00002_00027.png to 00000_00002_00027.png\n",
      "Saving 00000_00002_00028.png to 00000_00002_00028.png\n",
      "Saving 00000_00002_00029.png to 00000_00002_00029.png\n",
      "Saving 00000_00003_00000.png to 00000_00003_00000.png\n",
      "Saving 00000_00002_00014.png to 00000_00002_00014.png\n",
      "Saving 00000_00002_00015.png to 00000_00002_00015.png\n",
      "Saving 00000_00002_00016.png to 00000_00002_00016.png\n",
      "Saving 00000_00002_00017.png to 00000_00002_00017.png\n",
      "Saving 00000_00002_00018.png to 00000_00002_00018.png\n",
      "Saving 00000_00002_00019.png to 00000_00002_00019.png\n",
      "Saving 00000_00002_00020.png to 00000_00002_00020.png\n",
      "Saving 00000_00002_00021.png to 00000_00002_00021.png\n",
      "Saving 00000_00002_00007.png to 00000_00002_00007.png\n",
      "Saving 00000_00002_00008.png to 00000_00002_00008.png\n",
      "Saving 00000_00002_00009.png to 00000_00002_00009.png\n",
      "Saving 00000_00002_00010.png to 00000_00002_00010.png\n",
      "Saving 00000_00002_00011.png to 00000_00002_00011.png\n",
      "Saving 00000_00002_00012.png to 00000_00002_00012.png\n",
      "Saving 00000_00002_00013.png to 00000_00002_00013.png\n",
      "Saving 00000_00002_00000.png to 00000_00002_00000.png\n",
      "Saving 00000_00002_00001.png to 00000_00002_00001.png\n",
      "Saving 00000_00002_00002.png to 00000_00002_00002.png\n",
      "Saving 00000_00002_00003.png to 00000_00002_00003.png\n",
      "Saving 00000_00002_00004.png to 00000_00002_00004.png\n",
      "Saving 00000_00002_00005.png to 00000_00002_00005.png\n",
      "Saving 00000_00002_00006.png to 00000_00002_00006.png\n",
      "Saving 00000_00001_00025.png to 00000_00001_00025.png\n",
      "Saving 00000_00001_00026.png to 00000_00001_00026.png\n",
      "Saving 00000_00001_00027.png to 00000_00001_00027.png\n",
      "Saving 00000_00001_00028.png to 00000_00001_00028.png\n",
      "Saving 00000_00001_00029.png to 00000_00001_00029.png\n",
      "Saving 00000_00001_00019.png to 00000_00001_00019.png\n",
      "Saving 00000_00001_00020.png to 00000_00001_00020.png\n",
      "Saving 00000_00001_00021.png to 00000_00001_00021.png\n",
      "Saving 00000_00001_00022.png to 00000_00001_00022.png\n",
      "Saving 00000_00001_00023.png to 00000_00001_00023.png\n",
      "Saving 00000_00001_00024.png to 00000_00001_00024.png\n",
      "Saving 00000_00001_00009.png to 00000_00001_00009.png\n",
      "Saving 00000_00001_00010.png to 00000_00001_00010.png\n",
      "Saving 00000_00001_00011.png to 00000_00001_00011.png\n",
      "Saving 00000_00001_00012.png to 00000_00001_00012.png\n",
      "Saving 00000_00001_00013.png to 00000_00001_00013.png\n",
      "Saving 00000_00001_00014.png to 00000_00001_00014.png\n",
      "Saving 00000_00001_00015.png to 00000_00001_00015.png\n",
      "Saving 00000_00001_00016.png to 00000_00001_00016.png\n",
      "Saving 00000_00001_00017.png to 00000_00001_00017.png\n",
      "Saving 00000_00001_00018.png to 00000_00001_00018.png\n",
      "Saving 00000_00000_00028.png to 00000_00000_00028.png\n",
      "Saving 00000_00000_00029.png to 00000_00000_00029.png\n",
      "Saving 00000_00001_00000.png to 00000_00001_00000.png\n",
      "Saving 00000_00001_00001.png to 00000_00001_00001.png\n",
      "Saving 00000_00001_00002.png to 00000_00001_00002.png\n",
      "Saving 00000_00001_00003.png to 00000_00001_00003.png\n",
      "Saving 00000_00001_00004.png to 00000_00001_00004.png\n",
      "Saving 00000_00001_00005.png to 00000_00001_00005.png\n",
      "Saving 00000_00001_00006.png to 00000_00001_00006.png\n",
      "Saving 00000_00001_00007.png to 00000_00001_00007.png\n",
      "Saving 00000_00001_00008.png to 00000_00001_00008.png\n",
      "Saving 00000_00000_00021.png to 00000_00000_00021.png\n",
      "Saving 00000_00000_00022.png to 00000_00000_00022.png\n",
      "Saving 00000_00000_00023.png to 00000_00000_00023.png\n",
      "Saving 00000_00000_00024.png to 00000_00000_00024.png\n",
      "Saving 00000_00000_00025.png to 00000_00000_00025.png\n",
      "Saving 00000_00000_00026.png to 00000_00000_00026.png\n",
      "Saving 00000_00000_00027.png to 00000_00000_00027.png\n",
      "Saving 00000_00000_00012.png to 00000_00000_00012.png\n",
      "Saving 00000_00000_00013.png to 00000_00000_00013.png\n",
      "Saving 00000_00000_00014.png to 00000_00000_00014.png\n",
      "Saving 00000_00000_00015.png to 00000_00000_00015.png\n",
      "Saving 00000_00000_00016.png to 00000_00000_00016.png\n",
      "Saving 00000_00000_00017.png to 00000_00000_00017.png\n",
      "Saving 00000_00000_00018.png to 00000_00000_00018.png\n",
      "Saving 00000_00000_00019.png to 00000_00000_00019.png\n",
      "Saving 00000_00000_00020.png to 00000_00000_00020.png\n",
      "Saving 00000_00000_00000.png to 00000_00000_00000.png\n",
      "Saving 00000_00000_00001.png to 00000_00000_00001.png\n",
      "Saving 00000_00000_00002.png to 00000_00000_00002.png\n",
      "Saving 00000_00000_00003.png to 00000_00000_00003.png\n",
      "Saving 00000_00000_00004.png to 00000_00000_00004.png\n",
      "Saving 00000_00000_00005.png to 00000_00000_00005.png\n",
      "Saving 00000_00000_00006.png to 00000_00000_00006.png\n",
      "Saving 00000_00000_00007.png to 00000_00000_00007.png\n",
      "Saving 00000_00000_00008.png to 00000_00000_00008.png\n",
      "Saving 00000_00000_00009.png to 00000_00000_00009.png\n",
      "Saving 00000_00000_00010.png to 00000_00000_00010.png\n",
      "Saving 00000_00000_00011.png to 00000_00000_00011.png\n"
     ]
    }
   ],
   "source": [
    "from google.colab import files\n",
    "\n",
    "# Prompt the user to select the folder to upload\n",
    "uploaded_folder = files.upload()\n"
   ]
  },
  {
   "cell_type": "code",
   "execution_count": 5,
   "metadata": {
    "colab": {
     "base_uri": "https://localhost:8080/",
     "height": 339
    },
    "executionInfo": {
     "elapsed": 153,
     "status": "error",
     "timestamp": 1684723017883,
     "user": {
      "displayName": "Lakshmi Satvika Nekkanti",
      "userId": "08884361401555346095"
     },
     "user_tz": 420
    },
    "id": "r2of9X5mUIT9",
    "outputId": "b792b70f-1258-4c7d-f34b-12f17c0d73c5"
   },
   "outputs": [
    {
     "ename": "FileNotFoundError",
     "evalue": "ignored",
     "output_type": "error",
     "traceback": [
      "\u001b[0;31m---------------------------------------------------------------------------\u001b[0m",
      "\u001b[0;31mFileNotFoundError\u001b[0m                         Traceback (most recent call last)",
      "\u001b[0;32m<ipython-input-5-b58c6208ce39>\u001b[0m in \u001b[0;36m<cell line: 4>\u001b[0;34m()\u001b[0m\n\u001b[1;32m      2\u001b[0m \u001b[0;34m\u001b[0m\u001b[0m\n\u001b[1;32m      3\u001b[0m \u001b[0;31m# Extract the uploaded folder\u001b[0m\u001b[0;34m\u001b[0m\u001b[0;34m\u001b[0m\u001b[0m\n\u001b[0;32m----> 4\u001b[0;31m \u001b[0;32mwith\u001b[0m \u001b[0mzipfile\u001b[0m\u001b[0;34m.\u001b[0m\u001b[0mZipFile\u001b[0m\u001b[0;34m(\u001b[0m\u001b[0;34m'uploaded_folder'\u001b[0m\u001b[0;34m,\u001b[0m \u001b[0;34m'r'\u001b[0m\u001b[0;34m)\u001b[0m \u001b[0;32mas\u001b[0m \u001b[0mzip_ref\u001b[0m\u001b[0;34m:\u001b[0m\u001b[0;34m\u001b[0m\u001b[0;34m\u001b[0m\u001b[0m\n\u001b[0m\u001b[1;32m      5\u001b[0m     \u001b[0mzip_ref\u001b[0m\u001b[0;34m.\u001b[0m\u001b[0mextractall\u001b[0m\u001b[0;34m(\u001b[0m\u001b[0;34m'extracted_folder'\u001b[0m\u001b[0;34m)\u001b[0m\u001b[0;34m\u001b[0m\u001b[0;34m\u001b[0m\u001b[0m\n",
      "\u001b[0;32m/usr/lib/python3.10/zipfile.py\u001b[0m in \u001b[0;36m__init__\u001b[0;34m(self, file, mode, compression, allowZip64, compresslevel, strict_timestamps)\u001b[0m\n\u001b[1;32m   1249\u001b[0m             \u001b[0;32mwhile\u001b[0m \u001b[0;32mTrue\u001b[0m\u001b[0;34m:\u001b[0m\u001b[0;34m\u001b[0m\u001b[0;34m\u001b[0m\u001b[0m\n\u001b[1;32m   1250\u001b[0m                 \u001b[0;32mtry\u001b[0m\u001b[0;34m:\u001b[0m\u001b[0;34m\u001b[0m\u001b[0;34m\u001b[0m\u001b[0m\n\u001b[0;32m-> 1251\u001b[0;31m                     \u001b[0mself\u001b[0m\u001b[0;34m.\u001b[0m\u001b[0mfp\u001b[0m \u001b[0;34m=\u001b[0m \u001b[0mio\u001b[0m\u001b[0;34m.\u001b[0m\u001b[0mopen\u001b[0m\u001b[0;34m(\u001b[0m\u001b[0mfile\u001b[0m\u001b[0;34m,\u001b[0m \u001b[0mfilemode\u001b[0m\u001b[0;34m)\u001b[0m\u001b[0;34m\u001b[0m\u001b[0;34m\u001b[0m\u001b[0m\n\u001b[0m\u001b[1;32m   1252\u001b[0m                 \u001b[0;32mexcept\u001b[0m \u001b[0mOSError\u001b[0m\u001b[0;34m:\u001b[0m\u001b[0;34m\u001b[0m\u001b[0;34m\u001b[0m\u001b[0m\n\u001b[1;32m   1253\u001b[0m                     \u001b[0;32mif\u001b[0m \u001b[0mfilemode\u001b[0m \u001b[0;32min\u001b[0m \u001b[0mmodeDict\u001b[0m\u001b[0;34m:\u001b[0m\u001b[0;34m\u001b[0m\u001b[0;34m\u001b[0m\u001b[0m\n",
      "\u001b[0;31mFileNotFoundError\u001b[0m: [Errno 2] No such file or directory: 'uploaded_folder'"
     ]
    }
   ],
   "source": []
  },
  {
   "cell_type": "code",
   "execution_count": null,
   "metadata": {
    "id": "HJaICcn2O3X6"
   },
   "outputs": [],
   "source": [
    "\n",
    "import os\n",
    "os.chdir('C:/Users/satvi/Downloads/archive (4)/gtsrb-preprocessed')\n"
   ]
  },
  {
   "cell_type": "code",
   "execution_count": null,
   "metadata": {
    "id": "6vn7KvO2O3X8"
   },
   "outputs": [],
   "source": [
    "data = []\n",
    "labels = []\n",
    "# We have 44 Classes\n",
    "classes = 43\n",
    "cur_path = os.getcwd()"
   ]
  },
  {
   "cell_type": "code",
   "execution_count": null,
   "metadata": {
    "id": "ft4dw7iOO3X9",
    "outputId": "7abcb594-3ecc-46dd-8dd3-75b171b035fe"
   },
   "outputs": [
    {
     "data": {
      "text/plain": [
       "'C:\\\\Users\\\\satvi\\\\Downloads\\\\archive (4)\\\\gtsrb-preprocessed'"
      ]
     },
     "execution_count": 5,
     "metadata": {},
     "output_type": "execute_result"
    }
   ],
   "source": [
    "cur_path"
   ]
  },
  {
   "cell_type": "code",
   "execution_count": null,
   "metadata": {
    "id": "tP_-1xs5O3X_"
   },
   "outputs": [],
   "source": [
    "for i in range(classes):\n",
    "    path = os.path.join(cur_path,'train',str(i))\n",
    "    images = os.listdir(path)\n",
    "    for a in images:\n",
    "        try:\n",
    "            image = Image.open(path + '\\\\'+ a)\n",
    "            image = image.resize((30,30))\n",
    "            image = np.array(image)\n",
    "            data.append(image)\n",
    "            labels.append(i)\n",
    "        except Exception as e:\n",
    "            print(e)"
   ]
  },
  {
   "cell_type": "code",
   "execution_count": null,
   "metadata": {
    "id": "IdlT97jHO3YB"
   },
   "outputs": [],
   "source": [
    "data = np.array(data)\n",
    "labels = np.array(labels)"
   ]
  },
  {
   "cell_type": "code",
   "execution_count": null,
   "metadata": {
    "id": "vphJBT9RO3YC"
   },
   "outputs": [],
   "source": [
    "#os.mkdir('training')\n",
    "\n",
    "np.save('C:/Users/satvi/Downloads/JPPY2135-Traffic Sign Board Recognition and Voice Alert/data.npy',data)\n",
    "np.save('C:/Users/satvi/Downloads/JPPY2135-Traffic Sign Board Recognition and Voice Alert/target.npy',labels)"
   ]
  },
  {
   "cell_type": "code",
   "execution_count": null,
   "metadata": {
    "id": "LQG1iY7TO3YE"
   },
   "outputs": [],
   "source": [
    "data=np.load('C:/Users/satvi/Downloads/JPPY2135-Traffic Sign Board Recognition and Voice Alert/data.npy')\n",
    "labels=np.load('C:/Users/satvi/Downloads/JPPY2135-Traffic Sign Board Recognition and Voice Alert/target.npy')"
   ]
  },
  {
   "cell_type": "code",
   "execution_count": null,
   "metadata": {
    "id": "0dREC6YcO3YG",
    "outputId": "cb4d9d54-69da-429a-d2db-93a950b739ab"
   },
   "outputs": [
    {
     "name": "stdout",
     "output_type": "stream",
     "text": [
      "(39209, 30, 30, 3) (39209,)\n"
     ]
    }
   ],
   "source": [
    "print(data.shape, labels.shape)"
   ]
  },
  {
   "cell_type": "code",
   "execution_count": null,
   "metadata": {
    "id": "ut7NbOOBO3YI"
   },
   "outputs": [],
   "source": [
    "from sklearn.model_selection import train_test_split\n",
    "\n",
    "X_train, X_test, y_train, y_test = train_test_split(data, labels, test_size=0.2, random_state=0)\n"
   ]
  },
  {
   "cell_type": "code",
   "execution_count": null,
   "metadata": {
    "id": "8yheziIuO3YJ",
    "outputId": "cc124bf7-70a9-4deb-e9b9-f1de7b16e198"
   },
   "outputs": [
    {
     "name": "stdout",
     "output_type": "stream",
     "text": [
      "C:\\Users\\satvi\\anaconda3\\python.exe\n"
     ]
    }
   ],
   "source": [
    "\n",
    "import sys\n",
    "print(sys.executable)\n"
   ]
  },
  {
   "cell_type": "code",
   "execution_count": null,
   "metadata": {
    "id": "82PtGREqO3YK"
   },
   "outputs": [],
   "source": [
    "\n"
   ]
  },
  {
   "cell_type": "code",
   "execution_count": null,
   "metadata": {
    "id": "Sv-JBy_VO3YL"
   },
   "outputs": [],
   "source": []
  },
  {
   "cell_type": "code",
   "execution_count": null,
   "metadata": {
    "id": "wtWt0YbzO3YL",
    "outputId": "57872d04-1bcc-4d34-9006-8e0ff347a91c"
   },
   "outputs": [
    {
     "name": "stdout",
     "output_type": "stream",
     "text": [
      "(31367, 30, 30, 3) (7842, 30, 30, 3) (31367,) (7842,)\n"
     ]
    }
   ],
   "source": [
    "print(X_train.shape, X_test.shape, y_train.shape, y_test.shape)"
   ]
  },
  {
   "cell_type": "code",
   "execution_count": null,
   "metadata": {
    "id": "yGTcEycWO3YM"
   },
   "outputs": [],
   "source": [
    "from keras.utils import to_categorical\n"
   ]
  },
  {
   "cell_type": "code",
   "execution_count": null,
   "metadata": {
    "id": "SXRFsz-gO3YN"
   },
   "outputs": [],
   "source": [
    "y_train = to_categorical(y_train, 44)\n",
    "y_test = to_categorical(y_test, 44)"
   ]
  },
  {
   "cell_type": "code",
   "execution_count": null,
   "metadata": {
    "id": "BUpT6_MuO3YO"
   },
   "outputs": [],
   "source": [
    "from tensorflow.keras.models import Sequential\n"
   ]
  },
  {
   "cell_type": "code",
   "execution_count": null,
   "metadata": {
    "id": "8o-rLUZiO3YO"
   },
   "outputs": [],
   "source": [
    "\n",
    "from tensorflow.keras.layers import Conv2D, MaxPool2D, Dropout, Flatten, Dense\n"
   ]
  },
  {
   "cell_type": "code",
   "execution_count": null,
   "metadata": {
    "id": "9UHBkUcZO3YP"
   },
   "outputs": [],
   "source": [
    "\"\"\"model = Sequential()\n",
    "model.add(Conv2D(filters=32, kernel_size=(5,5), activation='relu', input_shape=X_train.shape[1:]))\n",
    "model.add(Conv2D(filters=32, kernel_size=(5,5), activation='relu'))\n",
    "model.add(MaxPool2D(pool_size=(2, 2)))\n",
    "model.add(Dropout(rate=0.25))\n",
    "model.add(Conv2D(filters=64, kernel_size=(3, 3), activation='relu'))\n",
    "model.add(Conv2D(filters=64, kernel_size=(3, 3), activation='relu'))\n",
    "model.add(MaxPool2D(pool_size=(2, 2)))\n",
    "model.add(Dropout(rate=0.25))\n",
    "model.add(Flatten())\n",
    "model.add(Dense(256, activation='relu'))\n",
    "model.add(Dropout(rate=0.5))\n",
    "\n",
    "\n",
    "model.add(Dense(44, activation='softmax'))\"\"\"\n",
    "from keras.models import Sequential\n",
    "from keras.layers import Conv2D, MaxPooling2D, Flatten, Dense, Dropout, BatchNormalization\n",
    "\n",
    "model = keras.models.Sequential([\n",
    "    keras.layers.Conv2D(filters=96, kernel_size=(11,11), strides=(4,4), activation='relu', input_shape=(30,30,3)),\n",
    "    keras.layers.BatchNormalization(),\n",
    "    keras.layers.MaxPool2D(pool_size=(2,2), strides=(2,2), padding='same'),\n",
    "    keras.layers.Conv2D(filters=256, kernel_size=(5,5), strides=(1,1), activation='relu', padding=\"same\"),\n",
    "    keras.layers.BatchNormalization(),\n",
    "    keras.layers.MaxPool2D(pool_size=(2,2), strides=(2,2), padding='same'),\n",
    "    keras.layers.Conv2D(filters=384, kernel_size=(3,3), strides=(1,1), activation='relu', padding=\"same\"),\n",
    "    keras.layers.BatchNormalization(),\n",
    "    keras.layers.Conv2D(filters=384, kernel_size=(3,3), strides=(1,1), activation='relu', padding=\"same\"),\n",
    "    keras.layers.BatchNormalization(),\n",
    "    keras.layers.Conv2D(filters=256, kernel_size=(3,3), strides=(1,1), activation='relu', padding=\"same\"),\n",
    "    keras.layers.BatchNormalization(),\n",
    "    keras.layers.MaxPool2D(pool_size=(2,2), strides=(2,2), padding='same'),\n",
    "    keras.layers.Flatten(),\n",
    "    keras.layers.Dense(4096, activation='relu'),\n",
    "    keras.layers.Dropout(0.5),\n",
    "    keras.layers.Dense(4096, activation='relu'),\n",
    "    keras.layers.Dropout(0.5),\n",
    "    keras.layers.Dense(44, activation='softmax')\n",
    "])\n",
    "\n"
   ]
  },
  {
   "cell_type": "code",
   "execution_count": null,
   "metadata": {
    "id": "lnJilzigO3YQ"
   },
   "outputs": [],
   "source": [
    "#Compilation of the model\n",
    "model.compile(loss='categorical_crossentropy', optimizer='adam', metrics=['accuracy'])"
   ]
  },
  {
   "cell_type": "code",
   "execution_count": null,
   "metadata": {
    "id": "85cdnhOAO3YQ",
    "outputId": "d0b91fde-296f-4b1d-e9c7-a87f5e327518",
    "scrolled": true
   },
   "outputs": [
    {
     "name": "stdout",
     "output_type": "stream",
     "text": [
      "Epoch 1/15\n",
      "981/981 [==============================] - 327s 329ms/step - loss: 1.9878 - accuracy: 0.4356 - val_loss: 1.2143 - val_accuracy: 0.6473\n",
      "Epoch 2/15\n",
      "981/981 [==============================] - 282s 287ms/step - loss: 0.6122 - accuracy: 0.8247 - val_loss: 0.3170 - val_accuracy: 0.9005\n",
      "Epoch 3/15\n",
      "981/981 [==============================] - 346s 353ms/step - loss: 0.3618 - accuracy: 0.9032 - val_loss: 0.4420 - val_accuracy: 0.9007\n",
      "Epoch 4/15\n",
      "981/981 [==============================] - 306s 312ms/step - loss: 0.2874 - accuracy: 0.9265 - val_loss: 0.2614 - val_accuracy: 0.9415\n",
      "Epoch 5/15\n",
      "981/981 [==============================] - 305s 311ms/step - loss: 0.2528 - accuracy: 0.9379 - val_loss: 0.4110 - val_accuracy: 0.8971\n",
      "Epoch 6/15\n",
      "981/981 [==============================] - 364s 371ms/step - loss: 0.2222 - accuracy: 0.9465 - val_loss: 0.1662 - val_accuracy: 0.9635\n",
      "Epoch 7/15\n",
      "981/981 [==============================] - 308s 314ms/step - loss: 0.1529 - accuracy: 0.9618 - val_loss: 0.2456 - val_accuracy: 0.9439\n",
      "Epoch 8/15\n",
      "981/981 [==============================] - 304s 310ms/step - loss: 0.1818 - accuracy: 0.9584 - val_loss: 0.2256 - val_accuracy: 0.9397\n",
      "Epoch 9/15\n",
      "981/981 [==============================] - 299s 305ms/step - loss: 0.1461 - accuracy: 0.9664 - val_loss: 0.1816 - val_accuracy: 0.9671\n",
      "Epoch 10/15\n",
      "981/981 [==============================] - 300s 305ms/step - loss: 0.1212 - accuracy: 0.9720 - val_loss: 0.2639 - val_accuracy: 0.9528\n",
      "Epoch 11/15\n",
      "981/981 [==============================] - 296s 301ms/step - loss: 0.1272 - accuracy: 0.9719 - val_loss: 0.1705 - val_accuracy: 0.9644\n",
      "Epoch 12/15\n",
      "981/981 [==============================] - 312s 318ms/step - loss: 0.1590 - accuracy: 0.9654 - val_loss: 0.1404 - val_accuracy: 0.9681\n",
      "Epoch 13/15\n",
      "981/981 [==============================] - 299s 304ms/step - loss: 0.0806 - accuracy: 0.9798 - val_loss: 0.1287 - val_accuracy: 0.9712\n",
      "Epoch 14/15\n",
      "981/981 [==============================] - 299s 305ms/step - loss: 0.1009 - accuracy: 0.9767 - val_loss: 0.1411 - val_accuracy: 0.9695\n",
      "Epoch 15/15\n",
      "981/981 [==============================] - 305s 310ms/step - loss: 0.1045 - accuracy: 0.9778 - val_loss: 0.4780 - val_accuracy: 0.9077\n"
     ]
    }
   ],
   "source": [
    "epochs = 15\n",
    "history = model.fit(X_train, y_train, batch_size=32, epochs=epochs, validation_data=(X_test, y_test))"
   ]
  },
  {
   "cell_type": "code",
   "execution_count": null,
   "metadata": {
    "id": "frrM_jLvO3YR"
   },
   "outputs": [],
   "source": [
    "# save the weights to an HDF5 file\n",
    "model.save_weights('model_weights.h5')"
   ]
  },
  {
   "cell_type": "code",
   "execution_count": null,
   "metadata": {
    "id": "Y5sVMNEIO3YS",
    "outputId": "f747c92c-406e-49a0-fa1f-7e993b12072d"
   },
   "outputs": [
    {
     "data": {
      "image/png": "[encoded data removed]",
      "text/plain": [
       "<Figure size 640x480 with 1 Axes>"
      ]
     },
     "metadata": {},
     "output_type": "display_data"
    }
   ],
   "source": [
    "# accuracy \n",
    "plt.figure(0)\n",
    "plt.plot(history.history['accuracy'], label='training accuracy')\n",
    "plt.plot(history.history['val_accuracy'], label='val accuracy')\n",
    "plt.title('Accuracy')\n",
    "plt.xlabel('epochs')\n",
    "plt.ylabel('accuracy')\n",
    "plt.legend()\n",
    "plt.show()"
   ]
  },
  {
   "cell_type": "code",
   "execution_count": null,
   "metadata": {
    "id": "rFgl-_PuO3YT",
    "outputId": "c2690ebd-0330-45e0-93e2-cf4d902968eb"
   },
   "outputs": [
    {
     "data": {
      "image/png": "[encoded data removed]",
      "text/plain": [
       "<Figure size 640x480 with 1 Axes>"
      ]
     },
     "metadata": {},
     "output_type": "display_data"
    }
   ],
   "source": [
    "# Loss\n",
    "plt.plot(history.history['loss'], label='training loss')\n",
    "plt.plot(history.history['val_loss'], label='val loss')\n",
    "plt.title('Loss')\n",
    "plt.xlabel('epochs')\n",
    "plt.ylabel('loss')\n",
    "plt.legend()\n",
    "plt.show()"
   ]
  },
  {
   "cell_type": "code",
   "execution_count": null,
   "metadata": {
    "id": "871zr9pWO3YT"
   },
   "outputs": [],
   "source": [
    "import numpy as np"
   ]
  },
  {
   "cell_type": "code",
   "execution_count": null,
   "metadata": {
    "id": "m9bbZpGAO3YU"
   },
   "outputs": [],
   "source": [
    "# Classes of trafic signs\n",
    "classes = { 0:'Speed limit (20km/h)',\n",
    "            1:'Speed limit (30km/h)', \n",
    "            2:'Speed limit (50km/h)', \n",
    "            3:'Speed limit (60km/h)', \n",
    "            4:'Speed limit (70km/h)', \n",
    "            5:'Speed limit (80km/h)', \n",
    "            6:'End of speed limit (80km/h)', \n",
    "            7:'Speed limit (100km/h)', \n",
    "            8:'Speed limit (120km/h)', \n",
    "            9:'No passing', \n",
    "            10:'No passing veh over 3.5 tons', \n",
    "            11:'Right-of-way at intersection', \n",
    "            12:'Priority road', \n",
    "            13:'Yield', \n",
    "            14:'Stop', \n",
    "            15:'No vehicles', \n",
    "            16:'Veh > 3.5 tons prohibited', \n",
    "            17:'No entry', \n",
    "            18:'General caution', \n",
    "            19:'Dangerous curve left', \n",
    "            20:'Dangerous curve right', \n",
    "            21:'Double curve', \n",
    "            22:'Bumpy road', \n",
    "            23:'Slippery road', \n",
    "            24:'Road narrows on the right', \n",
    "            25:'Road work', \n",
    "            26:'Traffic signals', \n",
    "            27:'Pedestrians', \n",
    "            28:'Children crossing', \n",
    "            29:'Bicycles crossing', \n",
    "            30:'Beware of ice/snow',\n",
    "            31:'Wild animals crossing', \n",
    "            32:'End speed + passing limits', \n",
    "            33:'Turn right ahead', \n",
    "            34:'Turn left ahead', \n",
    "            35:'Ahead only', \n",
    "            36:'Go straight or right', \n",
    "            37:'Go straight or left', \n",
    "            38:'Keep right', \n",
    "            39:'Keep left', \n",
    "            40:'Roundabout mandatory', \n",
    "            41:'End of no passing', \n",
    "            42:'End no passing veh > 3.5 tons',\n",
    "            43: 'No sign'}"
   ]
  },
  {
   "cell_type": "code",
   "execution_count": null,
   "metadata": {
    "id": "fdBzcuXzO3YV"
   },
   "outputs": [],
   "source": [
    "from PIL import Image\n",
    "import numpy as np\n",
    "import matplotlib.pyplot as plt\n",
    "import pyttsx3\n",
    "def test_on_img(img):\n",
    "    data=[]\n",
    "    image = Image.open(img)\n",
    "    image = image.resize((30,30))\n",
    "    data.append(np.array(image))\n",
    "    X_test=np.array(data)\n",
    "    Y_pred = np.argmax(model.predict(X_test), axis=-1)\n",
    "    return image,Y_pred"
   ]
  },
  {
   "cell_type": "code",
   "execution_count": null,
   "metadata": {
    "id": "Hp6pa7fCO3YV",
    "outputId": "466f44cb-0acf-4159-b2c6-92364367a9a8"
   },
   "outputs": [
    {
     "name": "stdout",
     "output_type": "stream",
     "text": [
      "1/1 [==============================] - 0s 44ms/step\n",
      "Predicted traffic sign is:  Speed limit (100km/h)\n"
     ]
    },
    {
     "data": {
      "image/png": "[encoded data removed]",
      "text/plain": [
       "<Figure size 640x480 with 1 Axes>"
      ]
     },
     "metadata": {},
     "output_type": "display_data"
    }
   ],
   "source": [
    "plot,prediction = test_on_img('C:/Users/satvi/Downloads/archive (4)/gtsrb-preprocessed/train/7/00007_00047_00027.png')\n",
    "s = [str(i) for i in prediction] \n",
    "a = int(\"\".join(s)) \n",
    "print(\"Predicted traffic sign is: \", classes[a])\n",
    "plt.imshow(plot)\n",
    "plt.show()\n",
    "engine = pyttsx3.init()\n",
    "engine.say(classes[a])\n",
    "engine.runAndWait()"
   ]
  },
  {
   "cell_type": "code",
   "execution_count": null,
   "metadata": {
    "id": "NmRiamT6O3YX"
   },
   "outputs": [],
   "source": []
  }
 ],
 "metadata": {
  "colab": {
   "provenance": []
  },
  "kernelspec": {
   "display_name": "Python 3 (ipykernel)",
   "language": "python",
   "name": "python3"
  },
  "language_info": {
   "codemirror_mode": {
    "name": "ipython",
    "version": 3
   },
   "file_extension": ".py",
   "mimetype": "text/x-python",
   "name": "python",
   "nbconvert_exporter": "python",
   "pygments_lexer": "ipython3",
   "version": "3.10.6"
  }
 },
 "nbformat": 4,
 "nbformat_minor": 1
}
