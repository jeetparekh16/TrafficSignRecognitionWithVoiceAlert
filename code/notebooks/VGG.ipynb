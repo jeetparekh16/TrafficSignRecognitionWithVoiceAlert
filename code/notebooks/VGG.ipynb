{
 "cells": [
  {
   "cell_type": "code",
   "execution_count": 8,
   "id": "c4c75233",
   "metadata": {},
   "outputs": [
    {
     "name": "stdout",
     "output_type": "stream",
     "text": [
      "Requirement already satisfied: keras in c:\\users\\satvi\\anaconda3\\lib\\site-packages (2.12.0)\n"
     ]
    }
   ],
   "source": [
    "import numpy as np \n",
    "import pandas as pd \n",
    "import matplotlib.pyplot as plt\n",
    "import cv2\n",
    "import tensorflow as tf\n",
    "from tensorflow import keras\n",
    "!pip install keras\n",
    "from keras.utils import to_categorical\n",
    "from PIL import Image \n",
    "import os\n",
    "os.chdir('C:/Users/satvi/Downloads/archive (4)/gtsrb-preprocessed')\n",
    "from sklearn.model_selection import train_test_split\n",
    "from keras.models import Sequential, load_model\n",
    "from keras.layers import Conv2D, MaxPool2D, Dense, Flatten, Dropout\n",
    "import random"
   ]
  },
  {
   "cell_type": "code",
   "execution_count": 9,
   "id": "b1dba14a",
   "metadata": {},
   "outputs": [],
   "source": [
    "data = []\n",
    "labels = []\n",
    "# We have 43 Classes\n",
    "classes = 43\n",
    "cur_path = os.getcwd()\n",
    "import os\n",
    "\n",
    "\n"
   ]
  },
  {
   "cell_type": "code",
   "execution_count": 10,
   "id": "4b8e5fa7",
   "metadata": {},
   "outputs": [
    {
     "data": {
      "text/plain": [
       "'C:\\\\Users\\\\satvi\\\\Downloads\\\\archive (4)\\\\gtsrb-preprocessed'"
      ]
     },
     "execution_count": 10,
     "metadata": {},
     "output_type": "execute_result"
    }
   ],
   "source": [
    "cur_path"
   ]
  },
  {
   "cell_type": "code",
   "execution_count": 11,
   "id": "48a24218",
   "metadata": {},
   "outputs": [],
   "source": [
    "def getListOfFiles(dirName):\n",
    "    # create a list of file and sub directories \n",
    "    # names in the given directory \n",
    "    listOfFile = os.listdir(dirName)\n",
    "    allFiles = list()\n",
    "    # Iterate over all the entries\n",
    "    for entry in listOfFile:\n",
    "        # Create full path\n",
    "        fullPath = os.path.join(dirName, entry)\n",
    "        # If entry is a directory then get the list of files in this directory \n",
    "        if os.path.isdir(fullPath):\n",
    "            allFiles = allFiles + getListOfFiles(fullPath)\n",
    "        else:\n",
    "            allFiles.append(fullPath)\n",
    "                \n",
    "    return allFiles\n",
    "\n",
    "\n",
    "allFiles = getListOfFiles(cur_path)"
   ]
  },
  {
   "cell_type": "code",
   "execution_count": null,
   "id": "0884f392",
   "metadata": {},
   "outputs": [],
   "source": []
  },
  {
   "cell_type": "code",
   "execution_count": 12,
   "id": "724f6118",
   "metadata": {},
   "outputs": [
    {
     "name": "stderr",
     "output_type": "stream",
     "text": [
      "100%|██████████████████████████████████████████████████████████████████████████████████| 43/43 [09:13<00:00, 12.87s/it]\n"
     ]
    }
   ],
   "source": [
    "from tqdm import tqdm\n",
    "\n",
    "# Rest of your code\n",
    "for i in tqdm(range(classes)):\n",
    "    path = os.path.join(cur_path, 'train', str(i))\n",
    "    images = os.listdir(path)\n",
    "    for a in images:\n",
    "        try:\n",
    "            image = Image.open(path + '/' + a)\n",
    "            image = image.resize((32, 32))\n",
    "            image = np.array(image)\n",
    "            data.append(image)\n",
    "            labels.append(i)\n",
    "        except Exception as e:\n",
    "            print(e)\n",
    "\n"
   ]
  },
  {
   "cell_type": "code",
   "execution_count": 15,
   "id": "f91edeab",
   "metadata": {},
   "outputs": [],
   "source": [
    "data = np.array(data)\n",
    "labels = np.array(labels)"
   ]
  },
  {
   "cell_type": "code",
   "execution_count": 16,
   "id": "c5149be4",
   "metadata": {},
   "outputs": [],
   "source": [
    "# Save the data and labels arrays with unique filenames\n",
    "np.save('C:/Users/satvi/Downloads/JPPY2135-Traffic Sign Board Recognition and Voice Alert/training_data.npy', data)\n",
    "np.save('C:/Users/satvi/Downloads/JPPY2135-Traffic Sign Board Recognition and Voice Alert/training_labels.npy', labels)\n",
    "\n",
    "# Loading the data for training\n",
    "data = np.load('C:/Users/satvi/Downloads/JPPY2135-Traffic Sign Board Recognition and Voice Alert/training_data.npy')\n",
    "labels = np.load('C:/Users/satvi/Downloads/JPPY2135-Traffic Sign Board Recognition and Voice Alert/training_labels.npy')\n"
   ]
  },
  {
   "cell_type": "code",
   "execution_count": 17,
   "id": "41b595b1",
   "metadata": {},
   "outputs": [
    {
     "name": "stdout",
     "output_type": "stream",
     "text": [
      "(39209, 32, 32, 3) (39209,)\n"
     ]
    }
   ],
   "source": [
    "print(data.shape, labels.shape)"
   ]
  },
  {
   "cell_type": "code",
   "execution_count": 18,
   "id": "ea3ba8e2",
   "metadata": {},
   "outputs": [],
   "source": [
    "X_train, X_test, y_train, y_test = train_test_split(data, labels, test_size=0.2, random_state=0)"
   ]
  },
  {
   "cell_type": "code",
   "execution_count": 19,
   "id": "9590135d",
   "metadata": {},
   "outputs": [
    {
     "name": "stdout",
     "output_type": "stream",
     "text": [
      "(31367, 32, 32, 3) (7842, 32, 32, 3) (31367,) (7842,)\n"
     ]
    }
   ],
   "source": [
    "print(X_train.shape, X_test.shape, y_train.shape, y_test.shape)"
   ]
  },
  {
   "cell_type": "code",
   "execution_count": 20,
   "id": "195d1579",
   "metadata": {},
   "outputs": [],
   "source": [
    "y_train = to_categorical(y_train, 43)\n",
    "y_test = to_categorical(y_test, 43)"
   ]
  },
  {
   "cell_type": "code",
   "execution_count": 23,
   "id": "44912c77",
   "metadata": {},
   "outputs": [
    {
     "name": "stdout",
     "output_type": "stream",
     "text": [
      "Downloading data from https://storage.googleapis.com/tensorflow/keras-applications/vgg19/vgg19_weights_tf_dim_ordering_tf_kernels_notop.h5\n",
      "80134624/80134624 [==============================] - 2s 0us/step\n"
     ]
    }
   ],
   "source": [
    "from tensorflow.keras.applications.vgg16 import VGG16\n",
    "from tensorflow.keras.applications.resnet50 import ResNet50\n",
    "from tensorflow.keras.applications.vgg19 import VGG19\n",
    "from tensorflow.keras.applications.mobilenet_v2 import MobileNetV2\n",
    "\n",
    "from tensorflow.keras.layers import Dense, GlobalAveragePooling2D\n",
    "from tensorflow.keras.models import Model\n",
    "\n",
    "#base_model = ResNet50(weights='imagenet', input_shape=(32,32,3), include_top=False)\n",
    "# base_model = VGG16(weights='imagenet', input_shape=(32,32,3), include_top=False)\n",
    "base_model = VGG19(weights='imagenet', input_shape=(32,32,3), include_top=False)\n",
    "# base_model = MobileNetV2(weights='imagenet', input_shape=(32,32,3), include_top=False)\n",
    "\n",
    "\n",
    "# add a global spatial average pooling layer\n",
    "x = base_model.output\n",
    "x = GlobalAveragePooling2D()(x)\n",
    "# let's add a fully-connected layer\n",
    "x = Dense(1024, activation='relu')(x)\n",
    "# and a logistic layer -- let's say we have 200 classes\n",
    "predictions = Dense(43, activation='softmax')(x)\n",
    "\n",
    "# this is the model we will train\n",
    "model = Model(inputs=base_model.input, outputs=predictions)"
   ]
  },
  {
   "cell_type": "code",
   "execution_count": 24,
   "id": "d66095c0",
   "metadata": {},
   "outputs": [
    {
     "name": "stdout",
     "output_type": "stream",
     "text": [
      "Model: \"model_1\"\n",
      "_________________________________________________________________\n",
      " Layer (type)                Output Shape              Param #   \n",
      "=================================================================\n",
      " input_2 (InputLayer)        [(None, 32, 32, 3)]       0         \n",
      "                                                                 \n",
      " block1_conv1 (Conv2D)       (None, 32, 32, 64)        1792      \n",
      "                                                                 \n",
      " block1_conv2 (Conv2D)       (None, 32, 32, 64)        36928     \n",
      "                                                                 \n",
      " block1_pool (MaxPooling2D)  (None, 16, 16, 64)        0         \n",
      "                                                                 \n",
      " block2_conv1 (Conv2D)       (None, 16, 16, 128)       73856     \n",
      "                                                                 \n",
      " block2_conv2 (Conv2D)       (None, 16, 16, 128)       147584    \n",
      "                                                                 \n",
      " block2_pool (MaxPooling2D)  (None, 8, 8, 128)         0         \n",
      "                                                                 \n",
      " block3_conv1 (Conv2D)       (None, 8, 8, 256)         295168    \n",
      "                                                                 \n",
      " block3_conv2 (Conv2D)       (None, 8, 8, 256)         590080    \n",
      "                                                                 \n",
      " block3_conv3 (Conv2D)       (None, 8, 8, 256)         590080    \n",
      "                                                                 \n",
      " block3_conv4 (Conv2D)       (None, 8, 8, 256)         590080    \n",
      "                                                                 \n",
      " block3_pool (MaxPooling2D)  (None, 4, 4, 256)         0         \n",
      "                                                                 \n",
      " block4_conv1 (Conv2D)       (None, 4, 4, 512)         1180160   \n",
      "                                                                 \n",
      " block4_conv2 (Conv2D)       (None, 4, 4, 512)         2359808   \n",
      "                                                                 \n",
      " block4_conv3 (Conv2D)       (None, 4, 4, 512)         2359808   \n",
      "                                                                 \n",
      " block4_conv4 (Conv2D)       (None, 4, 4, 512)         2359808   \n",
      "                                                                 \n",
      " block4_pool (MaxPooling2D)  (None, 2, 2, 512)         0         \n",
      "                                                                 \n",
      " block5_conv1 (Conv2D)       (None, 2, 2, 512)         2359808   \n",
      "                                                                 \n",
      " block5_conv2 (Conv2D)       (None, 2, 2, 512)         2359808   \n",
      "                                                                 \n",
      " block5_conv3 (Conv2D)       (None, 2, 2, 512)         2359808   \n",
      "                                                                 \n",
      " block5_conv4 (Conv2D)       (None, 2, 2, 512)         2359808   \n",
      "                                                                 \n",
      " block5_pool (MaxPooling2D)  (None, 1, 1, 512)         0         \n",
      "                                                                 \n",
      " global_average_pooling2d_1   (None, 512)              0         \n",
      " (GlobalAveragePooling2D)                                        \n",
      "                                                                 \n",
      " dense_2 (Dense)             (None, 1024)              525312    \n",
      "                                                                 \n",
      " dense_3 (Dense)             (None, 43)                44075     \n",
      "                                                                 \n",
      "=================================================================\n",
      "Total params: 20,593,771\n",
      "Trainable params: 20,593,771\n",
      "Non-trainable params: 0\n",
      "_________________________________________________________________\n"
     ]
    }
   ],
   "source": [
    "model.summary()"
   ]
  },
  {
   "cell_type": "code",
   "execution_count": 25,
   "id": "924b26c2",
   "metadata": {},
   "outputs": [
    {
     "name": "stdout",
     "output_type": "stream",
     "text": [
      "Epoch 1/15\n",
      "981/981 [==============================] - 896s 911ms/step - loss: 2.8526 - accuracy: 0.1671 - val_loss: 2.4030 - val_accuracy: 0.2555\n",
      "Epoch 2/15\n",
      "981/981 [==============================] - 926s 944ms/step - loss: 2.4246 - accuracy: 0.2564 - val_loss: 3.8412 - val_accuracy: 0.2339\n",
      "Epoch 3/15\n",
      "981/981 [==============================] - 1017s 1s/step - loss: 1.9655 - accuracy: 0.3453 - val_loss: 1.8006 - val_accuracy: 0.3801\n",
      "Epoch 4/15\n",
      "981/981 [==============================] - 1025s 1s/step - loss: 1.5040 - accuracy: 0.4695 - val_loss: 1.2460 - val_accuracy: 0.5705\n",
      "Epoch 5/15\n",
      "981/981 [==============================] - 982s 1s/step - loss: 1.1034 - accuracy: 0.6142 - val_loss: 1.0059 - val_accuracy: 0.6692\n",
      "Epoch 6/15\n",
      "981/981 [==============================] - 1214s 1s/step - loss: 0.9793 - accuracy: 0.6939 - val_loss: 0.7983 - val_accuracy: 0.7456\n",
      "Epoch 7/15\n",
      "981/981 [==============================] - 959s 978ms/step - loss: 0.5705 - accuracy: 0.8268 - val_loss: 0.5963 - val_accuracy: 0.8137\n",
      "Epoch 8/15\n",
      "981/981 [==============================] - 1091s 1s/step - loss: 0.5465 - accuracy: 0.8422 - val_loss: 0.8169 - val_accuracy: 0.7595\n",
      "Epoch 9/15\n",
      "981/981 [==============================] - 1007s 1s/step - loss: 0.5190 - accuracy: 0.8590 - val_loss: 0.5489 - val_accuracy: 0.8582\n",
      "Epoch 10/15\n",
      "981/981 [==============================] - 928s 946ms/step - loss: 0.4128 - accuracy: 0.8870 - val_loss: 0.5547 - val_accuracy: 0.8319\n",
      "Epoch 11/15\n",
      "981/981 [==============================] - 1104s 1s/step - loss: 0.5096 - accuracy: 0.8679 - val_loss: 0.4951 - val_accuracy: 0.8634\n",
      "Epoch 12/15\n",
      "981/981 [==============================] - 897s 914ms/step - loss: 0.4135 - accuracy: 0.8912 - val_loss: 0.6510 - val_accuracy: 0.9003\n",
      "Epoch 13/15\n",
      "981/981 [==============================] - 881s 898ms/step - loss: 0.6619 - accuracy: 0.8226 - val_loss: 0.3989 - val_accuracy: 0.9239\n",
      "Epoch 14/15\n",
      "981/981 [==============================] - 948s 966ms/step - loss: 0.2376 - accuracy: 0.9400 - val_loss: 0.3451 - val_accuracy: 0.9075\n",
      "Epoch 15/15\n",
      "981/981 [==============================] - 840s 857ms/step - loss: 0.5695 - accuracy: 0.8512 - val_loss: 0.3089 - val_accuracy: 0.9207\n"
     ]
    }
   ],
   "source": [
    "#Compilation of the model\n",
    "model.compile(loss='categorical_crossentropy', optimizer='adam', metrics=['accuracy'])\n",
    "epochs = 15\n",
    "history = model.fit(X_train, y_train, batch_size=32, epochs=epochs, validation_data=(X_test, y_test))"
   ]
  },
  {
   "cell_type": "code",
   "execution_count": 26,
   "id": "7750e1e3",
   "metadata": {},
   "outputs": [
    {
     "name": "stderr",
     "output_type": "stream",
     "text": [
      "WARNING:absl:Found untraced functions such as _jit_compiled_convolution_op, _jit_compiled_convolution_op, _jit_compiled_convolution_op, _jit_compiled_convolution_op, _jit_compiled_convolution_op while saving (showing 5 of 16). These functions will not be directly callable after loading.\n"
     ]
    },
    {
     "name": "stdout",
     "output_type": "stream",
     "text": [
      "INFO:tensorflow:Assets written to: ram://0e2e0933-aaea-485b-98f7-f13fab6fd010/assets\n"
     ]
    },
    {
     "name": "stderr",
     "output_type": "stream",
     "text": [
      "INFO:tensorflow:Assets written to: ram://0e2e0933-aaea-485b-98f7-f13fab6fd010/assets\n"
     ]
    },
    {
     "name": "stdout",
     "output_type": "stream",
     "text": [
      "History saved to file: C:/Users/satvi/Downloads/archive (4)/gtsrb-preprocessed.pickle\n"
     ]
    },
    {
     "name": "stderr",
     "output_type": "stream",
     "text": [
      "WARNING:absl:Found untraced functions such as _jit_compiled_convolution_op, _jit_compiled_convolution_op, _jit_compiled_convolution_op, _jit_compiled_convolution_op, _jit_compiled_convolution_op while saving (showing 5 of 16). These functions will not be directly callable after loading.\n"
     ]
    },
    {
     "name": "stdout",
     "output_type": "stream",
     "text": [
      "INFO:tensorflow:Assets written to: C:/Users/satvi/Downloads/archive (4)/gtsrb-preprocessed\\assets\n"
     ]
    },
    {
     "name": "stderr",
     "output_type": "stream",
     "text": [
      "INFO:tensorflow:Assets written to: C:/Users/satvi/Downloads/archive (4)/gtsrb-preprocessed\\assets\n"
     ]
    }
   ],
   "source": [
    "import pickle\n",
    "\n",
    "pickle_location = 'C:/Users/satvi/Downloads/archive (4)/gtsrb-preprocessed.pickle'\n",
    "with open(pickle_location, 'wb') as file_pi:\n",
    "     pickle.dump(history, file_pi, protocol=pickle.HIGHEST_PROTOCOL)\n",
    "print(\"History saved to file: %s\" % pickle_location)\n",
    "\n",
    "filepath = 'traffic8.h5'\n",
    "model.save('C:/Users/satvi/Downloads/archive (4)/gtsrb-preprocessed')\n",
    "\n",
    "filepath = 'weights8.h5'\n",
    "model.save_weights('C:/Users/satvi/Downloads/archive (4)/gtsrb-preprocessed')\n",
    "model.save('C:/Users/satvi/Downloads/archive (4)/gtsrb-preprocessed/traffic8.h5')"
   ]
  },
  {
   "cell_type": "code",
   "execution_count": 27,
   "id": "48d138e9",
   "metadata": {},
   "outputs": [],
   "source": [
    "train_accuracy = history.history['accuracy']\n",
    "val_accuracy = history.history['val_accuracy']\n"
   ]
  },
  {
   "cell_type": "code",
   "execution_count": 29,
   "id": "7803dfc3",
   "metadata": {},
   "outputs": [
    {
     "data": {
      "image/png": "[encoded data removed]",
      "text/plain": [
       "<Figure size 640x480 with 1 Axes>"
      ]
     },
     "metadata": {},
     "output_type": "display_data"
    }
   ],
   "source": [
    "# accuracy \n",
    "plt.figure(0)\n",
    "plt.plot(history.history['accuracy'], label='training accuracy')\n",
    "plt.plot(history.history['val_accuracy'], label='val accuracy')\n",
    "plt.title('Accuracy')\n",
    "plt.xlabel('epochs')\n",
    "plt.ylabel('accuracy')\n",
    "plt.legend()\n",
    "plt.show()"
   ]
  },
  {
   "cell_type": "code",
   "execution_count": 30,
   "id": "0f18a421",
   "metadata": {},
   "outputs": [
    {
     "data": {
      "image/png": "[encoded data removed]",
      "text/plain": [
       "<Figure size 640x480 with 1 Axes>"
      ]
     },
     "metadata": {},
     "output_type": "display_data"
    }
   ],
   "source": [
    "# Loss\n",
    "plt.plot(history.history['loss'], label='training loss')\n",
    "plt.plot(history.history['val_loss'], label='val loss')\n",
    "plt.title('Loss')\n",
    "plt.xlabel('epochs')\n",
    "plt.ylabel('loss')\n",
    "plt.legend()\n",
    "plt.show()"
   ]
  },
  {
   "cell_type": "code",
   "execution_count": 31,
   "id": "eeedbd46",
   "metadata": {},
   "outputs": [
    {
     "name": "stdout",
     "output_type": "stream",
     "text": [
      "246/246 [==============================] - 40s 161ms/step\n",
      "Precision: 0.9489905787348587\n",
      "Recall: 0.8991328742667687\n",
      "F1 score 0.9233892090099528\n"
     ]
    }
   ],
   "source": [
    "import numpy as np\n",
    "from sklearn.metrics import precision_score, recall_score, f1_score\n",
    "\n",
    "\n",
    "# Make predictions on the test data\n",
    "y_pred_probs = model.predict(X_test)\n",
    "y_pred_classes = np.round(y_pred_probs)\n",
    "\n",
    "# Convert the predicted probabilities to binary labels\n",
    "\n",
    "# Calculate precision\n",
    "precision = precision_score(y_test, y_pred_classes, average='micro')\n",
    "print(\"Precision:\", precision)\n",
    "\n",
    "# Calculate recall\n",
    "recall = recall_score(y_test, y_pred_classes, average='micro')\n",
    "print(\"Recall:\", recall)\n",
    "\n",
    "# Calculate F1 score\n",
    "f1 = f1_score(y_test, y_pred_classes, average='micro')\n",
    "print(\"F1 score\", f1)"
   ]
  },
  {
   "cell_type": "code",
   "execution_count": null,
   "id": "9d5fb860",
   "metadata": {},
   "outputs": [],
   "source": []
  }
 ],
 "metadata": {
  "kernelspec": {
   "display_name": "Python 3 (ipykernel)",
   "language": "python",
   "name": "python3"
  },
  "language_info": {
   "codemirror_mode": {
    "name": "ipython",
    "version": 3
   },
   "file_extension": ".py",
   "mimetype": "text/x-python",
   "name": "python",
   "nbconvert_exporter": "python",
   "pygments_lexer": "ipython3",
   "version": "3.10.6"
  }
 },
 "nbformat": 4,
 "nbformat_minor": 5
}
